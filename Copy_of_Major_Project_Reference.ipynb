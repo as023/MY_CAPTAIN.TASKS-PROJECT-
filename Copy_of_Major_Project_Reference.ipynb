{
  "nbformat": 4,
  "nbformat_minor": 0,
  "metadata": {
    "colab": {
      "name": "Copy of Major Project -Reference.ipynb",
      "provenance": [],
      "collapsed_sections": [],
      "authorship_tag": "ABX9TyOuHqcDPWWIPdEBndYCNpME",
      "include_colab_link": true
    },
    "kernelspec": {
      "name": "python3",
      "display_name": "Python 3"
    },
    "language_info": {
      "name": "python"
    }
  },
  "cells": [
    {
      "cell_type": "markdown",
      "metadata": {
        "id": "view-in-github",
        "colab_type": "text"
      },
      "source": [
        "<a href=\"https://colab.research.google.com/github/as023/MY_CAPTAIN.TASKS-PROJECT-/blob/main/Copy_of_Major_Project_Reference.ipynb\" target=\"_parent\"><img src=\"https://colab.research.google.com/assets/colab-badge.svg\" alt=\"Open In Colab\"/></a>"
      ]
    },
    {
      "cell_type": "code",
      "metadata": {
        "colab": {
          "base_uri": "https://localhost:8080/"
        },
        "id": "Jx125E2jo8d3",
        "outputId": "eedd1691-b19c-46ca-a2a4-6cc4772ff168"
      },
      "source": [
        "#https://adafruit-io-python-client.readthedocs.io/en/latest/\n",
        "\n",
        "!pip install adafruit-io --quiet\n"
      ],
      "execution_count": null,
      "outputs": [
        {
          "output_type": "stream",
          "text": [
            "\u001b[K     |████████████████████████████████| 51kB 2.9MB/s \n",
            "\u001b[K     |████████████████████████████████| 102kB 4.9MB/s \n",
            "\u001b[?25h  Building wheel for adafruit-io (setup.py) ... \u001b[?25l\u001b[?25hdone\n",
            "  Building wheel for paho-mqtt (setup.py) ... \u001b[?25l\u001b[?25hdone\n"
          ],
          "name": "stdout"
        }
      ]
    },
    {
      "cell_type": "code",
      "metadata": {
        "colab": {
          "base_uri": "https://localhost:8080/"
        },
        "id": "zvpzuXPGySkB",
        "outputId": "ea646cbb-8552-4040-a8f8-cb3178dfc98d"
      },
      "source": [
        "# Import library and create instance of REST client.\n",
        "from Adafruit_IO import Client\n",
        "aio = Client('Anusmita_', 'aio_GtBm22Q95yB5ny9qzpQCDn6y0EZ8')\n",
        "\n",
        "# Send the value 100 to a feed called 'Foo'.\n",
        "aio.send('bedroom-light', 1)\n",
        "\n",
        "# Retrieve the most recent value from the feed 'Foo'.\n",
        "# Access the value by reading the `value` property on the returned Data object.\n",
        "# Note that all values retrieved from IO are strings so you might need to convert\n",
        "# them to an int or numeric type if you expect a number.\n",
        "data = aio.receive('bedroom-light')\n",
        "print(f'Received value: {data.value}')"
      ],
      "execution_count": null,
      "outputs": [
        {
          "output_type": "stream",
          "text": [
            "Received value: 1\n"
          ],
          "name": "stdout"
        }
      ]
    },
    {
      "cell_type": "code",
      "metadata": {
        "id": "Rq366XA16pnC"
      },
      "source": [
        "# Telegram\n",
        "#https://python-telegram-bot.readthedocs.io/en/stable/\n",
        "!pip install python-telegram-bot==13.0 --quiet\n"
      ],
      "execution_count": null,
      "outputs": []
    },
    {
      "cell_type": "code",
      "metadata": {
        "id": "5udDPyui-Jpm"
      },
      "source": [
        "from telegram.ext import Updater, MessageHandler,Filters\n",
        "\n",
        "def func1(bot,update): \n",
        "  a=bot.message \n",
        "  print(a)\n",
        "\n",
        "BOT_TOKEN ='1886368090:AAEx51rb7KV46vODtQuqPCDKzayuGfPmYz4'\n",
        "u= Updater(BOT_TOKEN,use_context=True)\n",
        "dp = u.dispatcher\n",
        "dp.add_handler(MessageHandler(Filters.text,func1))\n",
        "u.start_polling()\n",
        "u.idle()\n"
      ],
      "execution_count": null,
      "outputs": []
    }
  ]
}